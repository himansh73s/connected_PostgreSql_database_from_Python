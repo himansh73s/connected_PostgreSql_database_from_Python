{
 "cells": [
  {
   "cell_type": "raw",
   "id": "aeffb7f1-01e8-4571-a512-a205ea4261ba",
   "metadata": {},
   "source": [
    "## connecting Python to the database"
   ]
  },
  {
   "cell_type": "markdown",
   "id": "edd22e50-cde4-4717-9105-d21582af0c72",
   "metadata": {},
   "source": [
    "## steps to connect to postgreSql from python \n"
   ]
  },
  {
   "cell_type": "raw",
   "id": "82b1c61a-d4f8-4263-997f-d84472908937",
   "metadata": {},
   "source": [
    "-- import psycopg2 library \n",
    "-- import psycopg2.extras library to store data in form of dictionaries\n",
    "-- write the required values for accessing the database by assigning their values to some variable\n",
    "   -- for ex: hostname , database_name, passwrd, port_id\n",
    "--  use psycopg2.connect() function to establish connection\n",
    "-- To perform operation on database use cursor() function\n",
    "-- To execute operation use .execute() function\n",
    "-- if using with clause then no need to commit() , close the cursor() function , only you need to close the connection with database\n"
   ]
  },
  {
   "cell_type": "code",
   "execution_count": 21,
   "id": "2faeff21-7b7d-47d1-bfff-2aced24fd96a",
   "metadata": {},
   "outputs": [
    {
     "name": "stdout",
     "output_type": "stream",
     "text": [
      "(1, 'Himanshh', 70000, 'D1')\n",
      "(2, 'Tript', 75000, 'D2')\n",
      "(3, 'Him', 80000, 'D3')\n"
     ]
    }
   ],
   "source": [
    "import psycopg2\n",
    "\n",
    "hostname = 'localhost'\n",
    "database = 'pep'\n",
    "username = 'postgres'\n",
    "pwd = '12345'  # Note: Use a string for the password\n",
    "port_id = 5432\n",
    "conn = None\n",
    "curr = None\n",
    "\n",
    "try:\n",
    "    conn = psycopg2.connect(     #we are creating a connection object so that har baar pura database detail na dena pde to connect\n",
    "        host=hostname,\n",
    "        dbname=database,\n",
    "        user=username,\n",
    "        password=pwd,\n",
    "        port=port_id\n",
    "    )\n",
    "\n",
    "    with conn:\n",
    "        curr = conn.cursor()     #cursor function is to do operation on connected database\n",
    "        curr.execute('DROP TABLE if ExistS employee')\n",
    "        create_script = '''CREATE TABLE IF NOT EXISTS Employee (\n",
    "                              id serial PRIMARY KEY,\n",
    "                              name varchar(40) NOT NULL,\n",
    "                              sal int,\n",
    "                              dept varchar(30)\n",
    "                          )'''\n",
    "\n",
    "        curr.execute(create_script)\n",
    "        Insert_script= \"Insert into employee(id, name, Sal, dept) Values(%s ,%s,%s,%s)\"\n",
    "        Insert_values= [(1 , 'Himanshh', 70000 , 'D1') ,(2 , 'Tript', 75000 , 'D2'), (3 , 'Him', 80000 , 'D3')]\n",
    "        for record in Insert_values:\n",
    "           curr.execute(Insert_script , record)\n",
    "\n",
    "        curr.execute('select * from employee')\n",
    "        for record in curr.fetchall():\n",
    "            print(record)\n",
    "        \n",
    "\n",
    "    #conn.commit() \n",
    "\n",
    "except Exception as error:\n",
    "    print(\"Error:\", error)\n",
    "    # Optionally, print or log a traceback for more detailed information\n",
    "\n",
    "finally:\n",
    "    if curr is not None:\n",
    "        curr.close()\n",
    "    if conn is not None:\n",
    "        conn.close()\n"
   ]
  },
  {
   "cell_type": "code",
   "execution_count": 20,
   "id": "d6d221bb-fb05-4876-a8f0-82235c79c2ab",
   "metadata": {},
   "outputs": [
    {
     "name": "stdout",
     "output_type": "stream",
     "text": [
      "Himanshh 70000\n",
      "Tript 75000\n",
      "Him 80000\n"
     ]
    }
   ],
   "source": [
    "import psycopg2\n",
    "import psycopg2.extras #importing this library to access/store data of database (in form of dictionary)directly through keys\n",
    "\n",
    "hostname = 'localhost'\n",
    "database = 'pep'\n",
    "username = 'postgres'\n",
    "pwd = '12345'  # Note: Use a string for the password\n",
    "port_id = 5432\n",
    "conn = None\n",
    "curr = None\n",
    "\n",
    "try:\n",
    "    conn = psycopg2.connect(     #we are creating a connection object so that har baar pura database detail na dena pde to connect\n",
    "        host=hostname,\n",
    "        dbname=database,\n",
    "        user=username,\n",
    "        password=pwd,\n",
    "        port=port_id\n",
    "    )\n",
    "\n",
    "    with conn:\n",
    "        curr = conn.cursor(cursor_factory=psycopg2.extras.DictCursor)     #cursor function is to do operation on connected database\n",
    "        #here too calling DictCursor to cursor\n",
    "        curr.execute('DROP TABLE if ExistS employee')\n",
    "        create_script = '''CREATE TABLE IF NOT EXISTS Employee (\n",
    "                              id serial PRIMARY KEY,\n",
    "                              name varchar(40) NOT NULL,\n",
    "                              sal int,\n",
    "                              dept varchar(30)\n",
    "                          )'''\n",
    "\n",
    "        curr.execute(create_script)\n",
    "        Insert_script= \"Insert into employee(id, name, Sal, dept) Values(%s ,%s,%s,%s)\"\n",
    "        Insert_values= [(1 , 'Himanshh', 70000 , 'D1') ,(2 , 'Tript', 75000 , 'D2'), (3 , 'Him', 80000 , 'D3')]\n",
    "        for record in Insert_values:\n",
    "           curr.execute(Insert_script , record)\n",
    "\n",
    "        curr.execute('select * from employee')\n",
    "        for record in curr.fetchall():\n",
    "            print(record['name'] , record['sal'])  # since we have stored in form of Dictonary so , we can access data directly through keys not index\n",
    "                                                #to accesss data through index when there is tons of data will be so tough\n",
    "\n",
    "    conn.commit()\n",
    "\n",
    "except Exception as error:\n",
    "    print(\"Error:\", error)\n",
    "    # Optionally, print or log a traceback for more detailed information\n",
    "\n",
    "finally:\n",
    "    if curr is not None:\n",
    "        curr.close()\n",
    "    if conn is not None:\n",
    "        conn.close()\n"
   ]
  },
  {
   "cell_type": "code",
   "execution_count": null,
   "id": "67b2a9e7-f206-4eaa-b0d8-cca5203a73a1",
   "metadata": {},
   "outputs": [],
   "source": []
  }
 ],
 "metadata": {
  "kernelspec": {
   "display_name": "Python 3 (ipykernel)",
   "language": "python",
   "name": "python3"
  },
  "language_info": {
   "codemirror_mode": {
    "name": "ipython",
    "version": 3
   },
   "file_extension": ".py",
   "mimetype": "text/x-python",
   "name": "python",
   "nbconvert_exporter": "python",
   "pygments_lexer": "ipython3",
   "version": "3.11.5"
  }
 },
 "nbformat": 4,
 "nbformat_minor": 5
}
